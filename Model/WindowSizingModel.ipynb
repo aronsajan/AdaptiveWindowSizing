{
 "cells": [
  {
   "cell_type": "code",
   "execution_count": 1,
   "metadata": {},
   "outputs": [
    {
     "name": "stderr",
     "output_type": "stream",
     "text": [
      "/Users/aronsajanphilip/opt/anaconda3/envs/machine_learning/lib/python3.8/site-packages/tqdm/auto.py:22: TqdmWarning: IProgress not found. Please update jupyter and ipywidgets. See https://ipywidgets.readthedocs.io/en/stable/user_install.html\n",
      "  from .autonotebook import tqdm as notebook_tqdm\n"
     ]
    }
   ],
   "source": [
    "import torch\n",
    "from torch import nn\n",
    "from torch import optim\n",
    "from torch.functional import F\n",
    "import numpy as np\n",
    "import pandas as pd\n",
    "from torch.utils.data import Dataset\n",
    "from matplotlib import pyplot as plt"
   ]
  },
  {
   "cell_type": "code",
   "execution_count": 2,
   "metadata": {},
   "outputs": [],
   "source": [
    "class WindowSizingDataset(Dataset):\n",
    "    def __init__(self, training_dataset:pd.DataFrame):\n",
    "        self.training_dataset = training_dataset\n",
    "    \n",
    "    def __len__(self):\n",
    "        return self.training_dataset.shape[0]\n",
    "    \n",
    "    def __getitem__(self, index):\n",
    "        input_data = torch.Tensor(dframe.iloc[index]['T1':'T4'].values.astype('float32'))\n",
    "        output_data = dframe.iloc[index]['Window Size'].astype('float32')\n",
    "        return input_data, output_data\n",
    "    \n",
    "    \n",
    "    \n",
    "dframe = pd.read_csv(\"./TrainingData.csv\")\n",
    "dataset = WindowSizingDataset(dframe)\n",
    "\n",
    "win_size_dataloader = torch.utils.data.DataLoader(dataset, batch_size=5, shuffle=True)\n"
   ]
  },
  {
   "cell_type": "code",
   "execution_count": 3,
   "metadata": {},
   "outputs": [
    {
     "name": "stdout",
     "output_type": "stream",
     "text": [
      "tensor([[8000., 8000., 8000., 8000.],\n",
      "        [2700., 2700., 2700., 3200.],\n",
      "        [3200.,  100., 3200.,  100.],\n",
      "        [7500., 7700., 7000., 7200.],\n",
      "        [4500., 5000., 5000., 6000.]])\n",
      "tensor([[6500., 7000., 7000., 7000.],\n",
      "        [7500., 8000., 8000., 7500.],\n",
      "        [6500., 6000., 6000., 6300.],\n",
      "        [6500., 7000., 7000., 6500.],\n",
      "        [6500.,  300., 6500.,  300.]])\n",
      "tensor([[4500., 4500., 4500., 4300.],\n",
      "        [5300.,  200., 5300.,  200.],\n",
      "        [3200., 3200., 3200., 3200.],\n",
      "        [5500., 5300., 5300., 5000.],\n",
      "        [5000.,  400., 5000.,  400.]])\n",
      "tensor([[3000., 3000., 3000., 3000.],\n",
      "        [3000., 3000., 3000., 2700.]])\n"
     ]
    }
   ],
   "source": [
    "for training_input, target_output in win_size_dataloader:\n",
    "    print(training_input)\n",
    "    "
   ]
  },
  {
   "cell_type": "code",
   "execution_count": null,
   "metadata": {},
   "outputs": [],
   "source": [
    "data_rate = [3000, 3000, 3000, #5000\n",
    "             3000, 3000, 2700, #4700\n",
    "             2700, 2700, 3200, #5100\n",
    "             3200, 3200, 3200, #5200\n",
    "             4500, 4500, 4300, #6200\n",
    "             4500,5000,6000, #7400\n",
    "             6500,7000,7000, #8800\n",
    "             7500,8000,7500, #10000\n",
    "             8000,8000,8000, #10000\n",
    "             6500,6000,6300, #8500\n",
    "             5500, 5300, 5000] #7100\n",
    "window_size = [5000, 4700, 5100, 5200, 6200, 7400, 8800,10000,10000, 8500, 7100]\n",
    "\n",
    "#data_rate_input = torch.Tensor(np.array(data_rate).reshape(-1,3,1))\n",
    "data_rate_input = torch.Tensor(np.array(data_rate).reshape(-1,3))\n",
    "target = torch.Tensor(np.array(window_size))\n",
    "print(data_rate_input.shape)\n",
    "print(target.shape)\n"
   ]
  },
  {
   "cell_type": "code",
   "execution_count": 4,
   "metadata": {},
   "outputs": [],
   "source": [
    "class Network(nn.Module):\n",
    "    def __init__(self, hidden_size):\n",
    "        super().__init__()\n",
    "        self.rnn = nn.RNN(input_size=1, \n",
    "                            hidden_size = hidden_size,\n",
    "                            num_layers=1,\n",
    "                            batch_first = True)\n",
    "        self.fc = nn.Linear(in_features=hidden_size, out_features=1)\n",
    "    \n",
    "    def forward(self, input_weights, hidden_weights):\n",
    "        r_out, hidden = self.rnn(input_weights, hidden_weights)\n",
    "        r_out = r_out[:,-1,:]\n",
    "        out = self.fc(r_out)\n",
    "        return out, hidden\n",
    "\n",
    "device = torch.device(\"cpu\")    \n",
    "class SimpleNet(nn.Module):\n",
    "    def __init__(self) -> None:\n",
    "        super().__init__()\n",
    "        self.fc1 = nn.Linear(in_features=4, out_features=3, device=device)\n",
    "        self.fc2 = nn.Linear(in_features=3, out_features=1, device=device)\n",
    "    \n",
    "    def forward(self, input_wt):\n",
    "        x = F.relu(self.fc1(input_wt))\n",
    "        x = self.fc2(x)\n",
    "        return x.cpu()\n",
    "        \n",
    "    "
   ]
  },
  {
   "cell_type": "code",
   "execution_count": 14,
   "metadata": {},
   "outputs": [],
   "source": [
    "\n",
    "net = SimpleNet()\n",
    "optimizer = optim.Adam(params=net.parameters(), lr=0.00001)\n",
    "criterion = nn.MSELoss()"
   ]
  },
  {
   "cell_type": "code",
   "execution_count": null,
   "metadata": {},
   "outputs": [],
   "source": []
  },
  {
   "cell_type": "code",
   "execution_count": 15,
   "metadata": {},
   "outputs": [
    {
     "name": "stdout",
     "output_type": "stream",
     "text": [
      "Epoch 0; Loss 109821832.0\n",
      "Epoch 1000; Loss 94249416.0\n",
      "Epoch 2000; Loss 43943360.0\n",
      "Epoch 3000; Loss 15529350.0\n",
      "Epoch 4000; Loss 36385952.0\n",
      "Epoch 5000; Loss 9835620.0\n",
      "Epoch 6000; Loss 23917540.0\n",
      "Epoch 7000; Loss 25875250.0\n",
      "Epoch 8000; Loss 6956475.5\n",
      "Epoch 9000; Loss 8567496.0\n",
      "Epoch 10000; Loss 2406669.0\n",
      "Epoch 11000; Loss 881927.0625\n"
     ]
    }
   ],
   "source": [
    "\n",
    "LOG_INTERVAL = 1000\n",
    "net.train()\n",
    "for epoch in range(0,12000):\n",
    "    for training_input, target_output in win_size_dataloader:\n",
    "        optimizer.zero_grad()\n",
    "        prediction = net(training_input.to(device=device))\n",
    "        loss = criterion(prediction.squeeze().to(device), target_output.to(device=device))\n",
    "        loss.backward()\n",
    "        optimizer.step()\n",
    "    if(epoch%LOG_INTERVAL == 0):\n",
    "        print(\"Epoch {}; Loss {}\".format(epoch,loss.item()))"
   ]
  },
  {
   "cell_type": "code",
   "execution_count": 19,
   "metadata": {},
   "outputs": [],
   "source": [
    "torch.save(net.state_dict(), './temp.pt')"
   ]
  },
  {
   "cell_type": "code",
   "execution_count": 20,
   "metadata": {},
   "outputs": [],
   "source": [
    "net.load_state_dict(torch.load(\"./window_size_model.pt\"))\n",
    "\n",
    "input_data = torch.Tensor(np.array([7000, 6000, 6900]).reshape(-1,3))\n",
    "#print(data_rate_input)"
   ]
  },
  {
   "cell_type": "code",
   "execution_count": 21,
   "metadata": {},
   "outputs": [
    {
     "name": "stdout",
     "output_type": "stream",
     "text": [
      "tensor([[6500., 7000., 7000., 6500.],\n",
      "        [5300.,  200., 5300.,  200.],\n",
      "        [8000., 8000., 8000., 8000.],\n",
      "        [5000.,  400., 5000.,  400.],\n",
      "        [6500., 7000., 7000., 7000.]])\n"
     ]
    },
    {
     "data": {
      "text/plain": [
       "<matplotlib.legend.Legend at 0x104127490>"
      ]
     },
     "execution_count": 21,
     "metadata": {},
     "output_type": "execute_result"
    },
    {
     "data": {
      "image/png": "[encoded data removed]",
      "text/plain": [
       "<Figure size 640x480 with 1 Axes>"
      ]
     },
     "metadata": {},
     "output_type": "display_data"
    }
   ],
   "source": [
    "net.eval()\n",
    "\n",
    "in_data, out_data = iter(win_size_dataloader).next()\n",
    "\n",
    "out = net(in_data.to(device))\n",
    "print(in_data)\n",
    "\n",
    "plt.plot(range(0,len(out_data)), out.detach().numpy().squeeze(), label=\"Predicted Data\")\n",
    "plt.plot(range(0,len(out_data)), out_data.numpy(),  label='Actual Data')\n",
    "plt.legend()"
   ]
  },
  {
   "cell_type": "code",
   "execution_count": 52,
   "metadata": {},
   "outputs": [],
   "source": [
    "#torch.save(net.state_dict(), './window_size_model.pt')"
   ]
  },
  {
   "cell_type": "code",
   "execution_count": 12,
   "metadata": {},
   "outputs": [
    {
     "data": {
      "text/plain": [
       "1"
      ]
     },
     "execution_count": 12,
     "metadata": {},
     "output_type": "execute_result"
    }
   ],
   "source": []
  }
 ],
 "metadata": {
  "kernelspec": {
   "display_name": "machine_learning",
   "language": "python",
   "name": "python3"
  },
  "language_info": {
   "codemirror_mode": {
    "name": "ipython",
    "version": 3
   },
   "file_extension": ".py",
   "mimetype": "text/x-python",
   "name": "python",
   "nbconvert_exporter": "python",
   "pygments_lexer": "ipython3",
   "version": "3.8.13"
  },
  "orig_nbformat": 4
 },
 "nbformat": 4,
 "nbformat_minor": 2
}
